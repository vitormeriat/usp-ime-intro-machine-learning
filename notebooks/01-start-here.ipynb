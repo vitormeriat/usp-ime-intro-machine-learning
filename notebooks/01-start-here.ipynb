{
 "cells": [
  {
   "cell_type": "markdown",
   "metadata": {},
   "source": [
    "<div align=\"center\" style=\"width: 100%; background-color: #F7F7F7; margin-bottom: 3em;\">\n",
    "    <h1 style=\"font-family: courier; color: #AF4545; font-size: 4em; padding-top: .5em;\"><b>Machine Learning Fundamentals</b></h1>\n",
    "    <img src=\"../imgs/ime-usp-logo.png\">\n",
    "    <h2 style=\"font-family: courier; color: #AF4545; padding-bottom: .5em;\">IME USP</h2>\n",
    "</div>\n",
    "\n",
    "# Introdução ao Machine Learning\n",
    "\n",
    "* Ministrante: **Nina S. T. Hirata** - Prof. Associado\n",
    "* Depto. de Ciência da Computação\n",
    "* Instituto de Matemática e Estatística\n",
    "* Universidade de São Paulo\n",
    "* [www.ime.usp.br/~nina](http://www.ime.usp.br/~nina)\n"
   ]
  },
  {
   "cell_type": "markdown",
   "metadata": {},
   "source": [
    "### Conteúdo\n",
    "\n",
    "1. Introdução - <mark>[intro.ipynb](02-intro.ipynb)</mark>\n",
    "\n",
    "    - classificação supervisionada x não-supervisionada\n",
    "    - exemplos\n",
    "    - regressão x classificação\n",
    "    - classificador de Bayes\n",
    "    - função de custo, minimização de função de custo"
   ]
  },
  {
   "cell_type": "markdown",
   "metadata": {},
   "source": [
    "2. Conceitos, fundamentos, prática\n",
    "\n",
    "    0. Familiarizar-se com Python - <mark>[practice_basics.ipynb](practice_basics.ipynb)</mark>\n",
    "    1. Regressão linear com gradiente descendente - <mark>[practice_regression.ipynb](practice_regression.ipynb)</mark>\n",
    "    2. Classificação binária - <mark>[classification.ipynb](classification.ipynb)</mark>\n",
    "        1. <mark>[practice_classification1.ipynb](practice_classification1.ipynb)</mark>\n",
    "        2. <mark>[practice_classification2.ipynb](practice_classification2.ipynb)</mark>\n",
    "    3. Exemplos usando scikit-learn - <mark>[practice_scikitlearn.ipynb](practice_scikitlearn.ipynb)</mark>\n",
    "    4. Treinamento, validação, teste, validação cruzada - <mark>[mais_scikitlearn.ipynb](mais_scikitlearn.ipynb)</mark>"
   ]
  },
  {
   "cell_type": "code",
   "execution_count": null,
   "metadata": {},
   "outputs": [],
   "source": []
  }
 ],
 "metadata": {
  "kernelspec": {
   "display_name": "Python 3",
   "language": "python",
   "name": "python3"
  },
  "language_info": {
   "codemirror_mode": {
    "name": "ipython",
    "version": 3
   },
   "file_extension": ".py",
   "mimetype": "text/x-python",
   "name": "python",
   "nbconvert_exporter": "python",
   "pygments_lexer": "ipython3",
   "version": "3.7.4"
  }
 },
 "nbformat": 4,
 "nbformat_minor": 4
}
