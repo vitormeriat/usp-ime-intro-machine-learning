{
 "cells": [
  {
   "cell_type": "markdown",
   "metadata": {},
   "source": [
    "<img src=\"../imgs/ime-usp-logo.png\" width=\"100px\" align=\"right\" display=\"block\">\n",
    "\n",
    "# Passo 0 para a parte prática\n",
    "\n",
    "**Objetivos**\n",
    "\n",
    "- familiarizar-se com conjunto de dados (quem é $\\mathbf{x}$, quem é $y$)\n",
    "- plotar pontos no plano\n",
    "- plotar curvas no plano\n",
    "\n",
    "**Como proceder:** Execute cada uma das células de código abaixo. Experimente alterar alguns parâmetros ou incluir prints adicionais"
   ]
  },
  {
   "cell_type": "markdown",
   "metadata": {},
   "source": [
    "### 1. Importar algumas bibliotecas"
   ]
  },
  {
   "cell_type": "code",
   "execution_count": 6,
   "metadata": {},
   "outputs": [],
   "source": [
    "import numpy as np\n",
    "import matplotlib.pyplot as plt\n",
    "\n",
    "%matplotlib inline"
   ]
  },
  {
   "cell_type": "markdown",
   "metadata": {},
   "source": [
    "### 2. Examinar, carregar, fazer plot dos dados\n",
    "\n",
    "Arquivo exemplo: \"data1.txt\"\n"
   ]
  },
  {
   "cell_type": "code",
   "execution_count": 7,
   "metadata": {
    "collapsed": false,
    "jupyter": {
     "outputs_hidden": false
    }
   },
   "outputs": [
    {
     "data": {
      "text/plain": [
       "\u001b[0;36m1.03\u001b[0m\u001b[0;34m,\u001b[0m \u001b[0;36m4.5\u001b[0m\u001b[0;34m\u001b[0m\n",
       "\u001b[0;34m\u001b[0m\u001b[0;36m1.80\u001b[0m\u001b[0;34m,\u001b[0m \u001b[0;36m3.7\u001b[0m\u001b[0;34m\u001b[0m\n",
       "\u001b[0;34m\u001b[0m\u001b[0;36m2.10\u001b[0m\u001b[0;34m,\u001b[0m \u001b[0;36m2.45\u001b[0m\u001b[0;34m\u001b[0m\n",
       "\u001b[0;34m\u001b[0m\u001b[0;36m2.50\u001b[0m\u001b[0;34m,\u001b[0m \u001b[0;36m3.2\u001b[0m\u001b[0;34m\u001b[0m\n",
       "\u001b[0;34m\u001b[0m\u001b[0;36m3.80\u001b[0m\u001b[0;34m,\u001b[0m \u001b[0;36m2.8\u001b[0m\u001b[0;34m\u001b[0m\n",
       "\u001b[0;34m\u001b[0m\u001b[0;36m4.10\u001b[0m\u001b[0;34m,\u001b[0m \u001b[0;36m1.5\u001b[0m\u001b[0;34m\u001b[0m\n",
       "\u001b[0;34m\u001b[0m\u001b[0;36m5.70\u001b[0m\u001b[0;34m,\u001b[0m \u001b[0;36m0.88\u001b[0m\u001b[0;34m\u001b[0m\n",
       "\u001b[0;34m\u001b[0m\u001b[0;36m6.00\u001b[0m\u001b[0;34m,\u001b[0m \u001b[0;36m0.7\u001b[0m\u001b[0;34m\u001b[0m\n",
       "\u001b[0;34m\u001b[0m\u001b[0;36m6.41\u001b[0m\u001b[0;34m,\u001b[0m \u001b[0;36m0.53\u001b[0m\u001b[0;34m\u001b[0m\n",
       "\u001b[0;34m\u001b[0m\u001b[0;36m7.13\u001b[0m\u001b[0;34m,\u001b[0m \u001b[0;36m0.21\u001b[0m\u001b[0;34m\u001b[0m\n",
       "\u001b[0;34m\u001b[0m\u001b[0;36m8.05\u001b[0m\u001b[0;34m,\u001b[0m \u001b[0;36m0.05\u001b[0m\u001b[0;34m\u001b[0m\u001b[0;34m\u001b[0m\u001b[0m\n"
      ]
     },
     "metadata": {},
     "output_type": "display_data"
    }
   ],
   "source": [
    "# O arquivo de dados é um txt no qual cada linha\n",
    "# contém dois números, separados por vírgula.\n",
    "# A primeira coluna é o x e a segunda coluna é o y\n",
    "\n",
    "%pycat ../data/data1.txt"
   ]
  },
  {
   "cell_type": "code",
   "execution_count": 8,
   "metadata": {
    "collapsed": false,
    "jupyter": {
     "outputs_hidden": false
    }
   },
   "outputs": [
    {
     "name": "stdout",
     "output_type": "stream",
     "text": [
      "Dimensão do array data: (11, 2)\n",
      "Dimensão do array x: (11,)\n",
      "Dimensão do array y: (11,)\n"
     ]
    },
    {
     "data": {
      "image/png": "[encoded data removed]",
      "text/plain": [
       "<Figure size 432x288 with 1 Axes>"
      ]
     },
     "metadata": {
      "needs_background": "light"
     },
     "output_type": "display_data"
    }
   ],
   "source": [
    "fname = '../data/data1.txt'\n",
    "data = np.loadtxt(fname, delimiter = ',')\n",
    "\n",
    "N = data.shape[0]  # número de linhas; portanto número de exemplos\n",
    "x = data[:, 0]  # coluna 0 é o x\n",
    "y = data[:, 1]  # coluna 1 é o y\n",
    "\n",
    "# Examinar a dimensão dos arrays\n",
    "print('Dimensão do array data:', data.shape)\n",
    "print('Dimensão do array x:', x.shape)\n",
    "print('Dimensão do array y:', x.shape)\n",
    "\n",
    "# plotar o dados\n",
    "plt.plot(x, y, 'rx')\n",
    "plt.xlim(-1, 10)\n",
    "plt.ylim(-1, 6)\n",
    "plt.title(fname)\n",
    "plt.xlabel('x')\n",
    "plt.ylabel('y')\n",
    "plt.show()"
   ]
  },
  {
   "cell_type": "markdown",
   "metadata": {},
   "source": [
    "### 3. Plot de uma reta\n",
    "\n",
    "Gráfico da reta $f(x) = w_o + w_1x$<br>\n",
    "Experimente:\n",
    "- alterar os pesos $w_0$ e $w_1$\n",
    "- alterar o range de $x$"
   ]
  },
  {
   "cell_type": "code",
   "execution_count": 9,
   "metadata": {
    "collapsed": false,
    "jupyter": {
     "outputs_hidden": false
    }
   },
   "outputs": [
    {
     "name": "stdout",
     "output_type": "stream",
     "text": [
      "Dimensão do array w:  (2,)\n",
      "Pontos: [0 1 2 3 4 5 6 7 8 9]\n"
     ]
    },
    {
     "data": {
      "image/png": "[encoded data removed]",
      "text/plain": [
       "<Figure size 432x288 with 1 Axes>"
      ]
     },
     "metadata": {
      "needs_background": "light"
     },
     "output_type": "display_data"
    }
   ],
   "source": [
    "# w = (w_0, w_1)\n",
    "w = np.array((1,2))\n",
    "print(\"Dimensão do array w: \", w.shape)\n",
    "\n",
    "# sequência de inteiros de 0 a 9\n",
    "ptx = np.arange(10)\n",
    "print(\"Pontos:\", ptx)\n",
    "\n",
    "# plotar a reta\n",
    "plt.title( 'Reta %.1f+%.1fx'%(w[0],w[1]) )\n",
    "plt.plot(ptx, w[0]+w[1]*ptx, '-')\n",
    "plt.xlabel('x')\n",
    "plt.ylabel('f( x )')\n",
    "plt.show()\n"
   ]
  },
  {
   "cell_type": "markdown",
   "metadata": {},
   "source": [
    "Gráfico da reta $f(x) = w_o + w_1x = \\mathbf{w}^T\\,\\mathbf{x}$<br>\n",
    "Desta vez, valor $y$ calculado por meio de equação matricial, fazendo-se $\\mathbf{x} = \\left[\\begin{array}{c}1 \\\\ x \\end{array}\\right]$ e calculando :\n",
    "$$\n",
    "y = [w_0 \\ \\ w_1]\\left[\\begin{array}{c}1 \\\\ x\\end{array}\\right]\n",
    "$$"
   ]
  },
  {
   "cell_type": "code",
   "execution_count": 10,
   "metadata": {
    "collapsed": false,
    "jupyter": {
     "outputs_hidden": false
    }
   },
   "outputs": [
    {
     "name": "stdout",
     "output_type": "stream",
     "text": [
      "Pontos estendidos = \n",
      " [[1. 0.]\n",
      " [1. 1.]\n",
      " [1. 2.]\n",
      " [1. 3.]\n",
      " [1. 4.]\n",
      " [1. 5.]\n",
      " [1. 6.]\n",
      " [1. 7.]\n",
      " [1. 8.]\n",
      " [1. 9.]]\n"
     ]
    },
    {
     "name": "stderr",
     "output_type": "stream",
     "text": [
      "/Users/vitormeriat/anaconda3/lib/python3.7/site-packages/ipykernel_launcher.py:6: FutureWarning: arrays to stack must be passed as a \"sequence\" type such as list or tuple. Support for non-sequence iterables such as generators is deprecated as of NumPy 1.16 and will raise an error in the future.\n",
      "  \n"
     ]
    },
    {
     "data": {
      "image/png": "[encoded data removed]",
      "text/plain": [
       "<Figure size 432x288 with 1 Axes>"
      ]
     },
     "metadata": {
      "needs_background": "light"
     },
     "output_type": "display_data"
    }
   ],
   "source": [
    "# Será usado o mesmo peso w da célula anterior. Para alterar\n",
    "# descomente a linha abaixo e edite os valores\n",
    "# w = np.array((1,2))\n",
    "\n",
    "# cada ponto x será transformado no par (1,x)\n",
    "ptxx = np.vstack(zip(np.ones(10), ptx))\n",
    "print(\"Pontos estendidos = \\n\", ptxx)\n",
    "\n",
    "# plotar a reta\n",
    "plt.title( 'Reta %.1f+%.1fx'%(w[0],w[1]) )\n",
    "plt.plot(ptx, ptxx.dot(w), '-')\n",
    "plt.xlabel('x')\n",
    "plt.ylabel('f(x)')\n",
    "plt.show()"
   ]
  },
  {
   "cell_type": "markdown",
   "metadata": {},
   "source": [
    "### 4. Sobrepor uma reta sobre o plot de pontos\n",
    "Plotar os pares de pontos $(x,y)$ iniciais e a reta $y = w_0 + w_1x$ num mesmo gráfico. Qual é a reta que melhor se \"ajusta\" aos exemplos ?<br>"
   ]
  },
  {
   "cell_type": "code",
   "execution_count": 11,
   "metadata": {
    "collapsed": false,
    "jupyter": {
     "outputs_hidden": false
    }
   },
   "outputs": [
    {
     "data": {
      "image/png": "[encoded data removed]",
      "text/plain": [
       "<Figure size 432x288 with 1 Axes>"
      ]
     },
     "metadata": {
      "needs_background": "light"
     },
     "output_type": "display_data"
    }
   ],
   "source": [
    "# chutar valores para o vetor de pesos\n",
    "w = np.array((5,-1/2))\n",
    "\n",
    "# plotar os dados (x,y)\n",
    "plt.plot(x, y, 'rx')\n",
    "\n",
    "# plotar a reta f(ptx) = w_0 + w_1*ptx\n",
    "plt.title( fname + ' e a reta %.1f+%.1fx'%(w[0],w[1]) )\n",
    "plt.plot(ptx, ptxx.dot(w), '-')\n",
    "plt.xlim(-1, 10)\n",
    "plt.ylim(-1, 6)\n",
    "plt.xlabel('x')\n",
    "plt.ylabel('y')\n",
    "plt.show()"
   ]
  },
  {
   "cell_type": "code",
   "execution_count": null,
   "metadata": {},
   "outputs": [],
   "source": []
  }
 ],
 "metadata": {
  "kernelspec": {
   "display_name": "Python 3",
   "language": "python",
   "name": "python3"
  },
  "language_info": {
   "codemirror_mode": {
    "name": "ipython",
    "version": 3
   },
   "file_extension": ".py",
   "mimetype": "text/x-python",
   "name": "python",
   "nbconvert_exporter": "python",
   "pygments_lexer": "ipython3",
   "version": "3.7.4"
  }
 },
 "nbformat": 4,
 "nbformat_minor": 4
}
